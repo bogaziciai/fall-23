{
 "cells": [
  {
   "attachments": {},
   "cell_type": "markdown",
   "id": "b19653de",
   "metadata": {},
   "source": [
    "<center><h1>bogaziciAI Winter Camp</h1></center>\n",
    "<center><h2>Workshop 3</h2></center>"
   ]
  },
  {
   "cell_type": "markdown",
   "id": "6d925fdf",
   "metadata": {},
   "source": [
    "<center><h3>Grading Table</h3></center>"
   ]
  },
  {
   "attachments": {},
   "cell_type": "markdown",
   "id": "d77c71e6",
   "metadata": {},
   "source": [
    "|             | Part 1 | Part 2      | Total |\n",
    "| ----------- | ----------- | -----------| ----------- |\n",
    "| **Points**      | 50          | 50    | 100   |"
   ]
  },
  {
   "cell_type": "code",
   "execution_count": 1,
   "id": "7ec8318e",
   "metadata": {},
   "outputs": [],
   "source": [
    "import warnings\n",
    "warnings.filterwarnings('ignore')\n",
    "\n",
    "import numpy as np\n",
    "import matplotlib.pyplot as plt\n",
    "import seaborn as sns\n",
    "from sklearn import linear_model, preprocessing, model_selection, neighbors, cluster\n",
    "from sklearn.preprocessing import StandardScaler\n",
    "from matplotlib.pyplot import cm\n",
    "from matplotlib.colors import BoundaryNorm\n",
    "from matplotlib.ticker import MaxNLocator\n",
    "from sklearn.model_selection import train_test_split\n",
    "import pandas as pd"
   ]
  },
  {
   "cell_type": "markdown",
   "id": "73b1472c",
   "metadata": {},
   "source": [
    "# Part 1 - K Nearest Neighbors"
   ]
  },
  {
   "cell_type": "markdown",
   "id": "899cae5d",
   "metadata": {},
   "source": [
    "We will use the famous iris dataset in this part."
   ]
  },
  {
   "cell_type": "code",
   "execution_count": 2,
   "id": "fac0b064",
   "metadata": {},
   "outputs": [
    {
     "data": {
      "image/png": "[encoded data removed]",
      "text/plain": [
       "<Figure size 432x288 with 1 Axes>"
      ]
     },
     "metadata": {
      "needs_background": "light"
     },
     "output_type": "display_data"
    }
   ],
   "source": [
    "df = pd.read_csv('iris.data',names=['Sepal Length', 'Sepal Width', 'Petal Length', 'Petal Width', 'Class'])\n",
    "sns.scatterplot('Petal Length', 'Petal Width', data=df, hue='Class')\n",
    "plt.show()"
   ]
  },
  {
   "cell_type": "markdown",
   "id": "80d078fc",
   "metadata": {},
   "source": [
    "### Step 1\n",
    "\n",
    "Split the dataset into train and test sets."
   ]
  },
  {
   "cell_type": "code",
   "execution_count": null,
   "id": "e32b08ba",
   "metadata": {},
   "outputs": [],
   "source": []
  },
  {
   "cell_type": "markdown",
   "id": "2fd33fae",
   "metadata": {},
   "source": [
    "### Step 2\n",
    "\n",
    "Standardize the dataset"
   ]
  },
  {
   "cell_type": "code",
   "execution_count": null,
   "id": "6cfc4c57",
   "metadata": {},
   "outputs": [],
   "source": []
  },
  {
   "cell_type": "markdown",
   "id": "d428b10a",
   "metadata": {},
   "source": [
    "### Step 3\n",
    "\n",
    "Write your custom KNN class"
   ]
  },
  {
   "cell_type": "code",
   "execution_count": 3,
   "id": "6bc7be5d",
   "metadata": {},
   "outputs": [],
   "source": [
    "class CustomKNN:\n",
    "    pass"
   ]
  },
  {
   "cell_type": "markdown",
   "id": "9a2b3047",
   "metadata": {},
   "source": [
    "### Step 4\n",
    "\n",
    "Fit the training data to model"
   ]
  },
  {
   "cell_type": "code",
   "execution_count": null,
   "id": "3557f911",
   "metadata": {},
   "outputs": [],
   "source": []
  },
  {
   "cell_type": "markdown",
   "id": "80c69267",
   "metadata": {},
   "source": [
    "### Step 5\n",
    "\n",
    "Evaluate the accuracy"
   ]
  },
  {
   "cell_type": "code",
   "execution_count": null,
   "id": "1da53f11",
   "metadata": {},
   "outputs": [],
   "source": []
  },
  {
   "cell_type": "markdown",
   "id": "a0a125c0",
   "metadata": {},
   "source": [
    "### Step 6\n",
    "\n",
    "Use sklearn's KNN classifier and compare the results"
   ]
  },
  {
   "cell_type": "code",
   "execution_count": 4,
   "id": "d9865461",
   "metadata": {},
   "outputs": [],
   "source": [
    "from sklearn.neighbors import KNeighborsClassifier"
   ]
  },
  {
   "cell_type": "code",
   "execution_count": null,
   "id": "716b4793",
   "metadata": {},
   "outputs": [],
   "source": []
  },
  {
   "cell_type": "markdown",
   "id": "b9856d05",
   "metadata": {},
   "source": [
    "### Step 7\n",
    "\n",
    "We have gathered 5 unknown samples below. Predict which sample belongs to which category. <br>\n",
    "*Hint: You can use classifier.predict(x) method.* <br>\n",
    "**Extra:** Indicate the probability of prediction.\n",
    "\n",
    "\n",
    "| Sepal Length | Sepal Width | Petal Length | Petal Width | Class | \n",
    "| :-: | :-: | :-: | :-: | :-: |\n",
    "| 4.5 | 3.0 | 1.5 | 0.5 | Unknown |\n",
    "| 7.0 | 3.0 | 5.0 | 1.5 | Unknown |\n",
    "| 6.0 | 2.5 | 5.0 | 2.0 | Unknown |\n",
    "| 7.0 | 3.0 | 4.5 | 1.0 | Unknown |\n",
    "| 6.0 | 2.0 | 5.0 | 1.5 | Unknown |"
   ]
  },
  {
   "cell_type": "code",
   "execution_count": null,
   "id": "82c44cb6",
   "metadata": {},
   "outputs": [],
   "source": []
  },
  {
   "cell_type": "markdown",
   "id": "6e31f19e",
   "metadata": {},
   "source": [
    "# Part 2 - K-Means Clustering"
   ]
  },
  {
   "cell_type": "markdown",
   "id": "73deac3d",
   "metadata": {},
   "source": [
    "## Dataset\n",
    "<br>\n",
    "We use dataset from https://www.kaggle.com/kandij/mall-customers throughout this notebook."
   ]
  },
  {
   "cell_type": "code",
   "execution_count": 5,
   "id": "51a980d4",
   "metadata": {},
   "outputs": [
    {
     "data": {
      "text/html": [
       "<div>\n",
       "<style scoped>\n",
       "    .dataframe tbody tr th:only-of-type {\n",
       "        vertical-align: middle;\n",
       "    }\n",
       "\n",
       "    .dataframe tbody tr th {\n",
       "        vertical-align: top;\n",
       "    }\n",
       "\n",
       "    .dataframe thead th {\n",
       "        text-align: right;\n",
       "    }\n",
       "</style>\n",
       "<table border=\"1\" class=\"dataframe\">\n",
       "  <thead>\n",
       "    <tr style=\"text-align: right;\">\n",
       "      <th></th>\n",
       "      <th>Gender</th>\n",
       "      <th>Age</th>\n",
       "      <th>Annual Income (k$)</th>\n",
       "      <th>Spending Score (1-100)</th>\n",
       "    </tr>\n",
       "  </thead>\n",
       "  <tbody>\n",
       "    <tr>\n",
       "      <th>0</th>\n",
       "      <td>0</td>\n",
       "      <td>19</td>\n",
       "      <td>15</td>\n",
       "      <td>39</td>\n",
       "    </tr>\n",
       "    <tr>\n",
       "      <th>1</th>\n",
       "      <td>0</td>\n",
       "      <td>21</td>\n",
       "      <td>15</td>\n",
       "      <td>81</td>\n",
       "    </tr>\n",
       "    <tr>\n",
       "      <th>2</th>\n",
       "      <td>1</td>\n",
       "      <td>20</td>\n",
       "      <td>16</td>\n",
       "      <td>6</td>\n",
       "    </tr>\n",
       "    <tr>\n",
       "      <th>3</th>\n",
       "      <td>1</td>\n",
       "      <td>23</td>\n",
       "      <td>16</td>\n",
       "      <td>77</td>\n",
       "    </tr>\n",
       "    <tr>\n",
       "      <th>4</th>\n",
       "      <td>1</td>\n",
       "      <td>31</td>\n",
       "      <td>17</td>\n",
       "      <td>40</td>\n",
       "    </tr>\n",
       "  </tbody>\n",
       "</table>\n",
       "</div>"
      ],
      "text/plain": [
       "   Gender  Age  Annual Income (k$)  Spending Score (1-100)\n",
       "0       0   19                  15                      39\n",
       "1       0   21                  15                      81\n",
       "2       1   20                  16                       6\n",
       "3       1   23                  16                      77\n",
       "4       1   31                  17                      40"
      ]
     },
     "execution_count": 5,
     "metadata": {},
     "output_type": "execute_result"
    }
   ],
   "source": [
    "df = pd.read_csv(\"segmented_customers.csv\")\n",
    "df[\"Gender\"] = df[\"Gender\"].replace({\"Male\": 0, \"Female\": 1})\n",
    "df.head()"
   ]
  },
  {
   "cell_type": "markdown",
   "id": "4449b1e6",
   "metadata": {},
   "source": [
    "### Step 1\n",
    "<br>\n",
    "For this part, we will only use Age and Spending Score columns.\n",
    "<br>\n",
    "Plot the dataframe so that \"Age\" column is on the x axis and \"Spending Score (1-100)\" is on the y axis."
   ]
  },
  {
   "cell_type": "code",
   "execution_count": null,
   "id": "a8847594",
   "metadata": {},
   "outputs": [],
   "source": []
  },
  {
   "cell_type": "markdown",
   "id": "ebc0eb14",
   "metadata": {},
   "source": [
    "### Step 2\n",
    "<br>\n",
    "Implement your own simple Kmeans algorithm without using pre-implemented libraries for KMeans. You can \n",
    "refer to the structure below while structuring your code. You do not have to use the same structure. \n",
    "Any type of initialization method for your centroids is accepted. You will solely be graded on whether or not your algorithm performs as expected, we will not take the accuracy into account as long as the algorithm gives meaningful results."
   ]
  },
  {
   "cell_type": "code",
   "execution_count": null,
   "id": "63ca6f92",
   "metadata": {},
   "outputs": [],
   "source": []
  },
  {
   "cell_type": "markdown",
   "id": "f752266e",
   "metadata": {},
   "source": [
    "### Step 3\n",
    "<br>\n",
    "After you complete your algorithm, test it for number of clusters between 1-15. Use elbow method to decide on the\n",
    "best number of clusters. For the best number of clusters you chose, visualize the clusters and centroids. Comment on your results, what improvements can be made on the algorithm?"
   ]
  },
  {
   "cell_type": "code",
   "execution_count": null,
   "id": "38797a42",
   "metadata": {},
   "outputs": [],
   "source": []
  },
  {
   "cell_type": "code",
   "execution_count": null,
   "id": "8e362dbd",
   "metadata": {},
   "outputs": [],
   "source": []
  },
  {
   "cell_type": "markdown",
   "id": "a068c4b5",
   "metadata": {},
   "source": [
    "### Step 4\n",
    "<br>\n",
    "Use scikit-learn's KMeans class to compare your results with the optimized KMeans algrorithm. Compare it for number of clusters between 1-15 and plot the inertias (hint: you can use scikit-learn's \"inertia_\" parameter.). Comment on your results.  "
   ]
  },
  {
   "cell_type": "code",
   "execution_count": null,
   "id": "781eaca8",
   "metadata": {},
   "outputs": [],
   "source": []
  }
 ],
 "metadata": {
  "kernelspec": {
   "display_name": "bogaziciai",
   "language": "python",
   "name": "python3"
  },
  "language_info": {
   "codemirror_mode": {
    "name": "ipython",
    "version": 3
   },
   "file_extension": ".py",
   "mimetype": "text/x-python",
   "name": "python",
   "nbconvert_exporter": "python",
   "pygments_lexer": "ipython3",
   "version": "3.8.13 (default, Mar 28 2022, 06:16:26) \n[Clang 12.0.0 ]"
  },
  "vscode": {
   "interpreter": {
    "hash": "5fbcc6426ad4bc9ca214ae1f425bad2736b7e48c4b6085fae84f5872fe3b6788"
   }
  }
 },
 "nbformat": 4,
 "nbformat_minor": 5
}
