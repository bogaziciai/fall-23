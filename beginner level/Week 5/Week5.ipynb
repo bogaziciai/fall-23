{
 "cells": [
  {
   "cell_type": "code",
   "execution_count": 1,
   "id": "8a76ada4",
   "metadata": {},
   "outputs": [],
   "source": [
    "import warnings\n",
    "warnings.filterwarnings('ignore')\n",
    "\n",
    "import torch\n",
    "from torch import nn\n",
    "import torch.nn.functional as F\n",
    "import torch.optim as optim\n",
    "\n",
    "from sklearn.datasets import make_moons\n",
    "from sklearn.preprocessing import StandardScaler\n",
    "from sklearn.model_selection import train_test_split\n",
    "\n",
    "import matplotlib.pyplot as plt\n",
    "from matplotlib.colors import ListedColormap\n",
    "\n",
    "import numpy as np\n",
    "\n",
    "import torchvision.datasets as datasets \n",
    "import torchvision.transforms as transforms\n",
    "import time"
   ]
  },
  {
   "cell_type": "code",
   "execution_count": 2,
   "id": "69adff80",
   "metadata": {},
   "outputs": [
    {
     "name": "stdout",
     "output_type": "stream",
     "text": [
      "Using cpu device\n"
     ]
    }
   ],
   "source": [
    "device = \"cuda\" if torch.cuda.is_available() else \"cpu\"\n",
    "print(\"Using {} device\".format(device))"
   ]
  },
  {
   "cell_type": "markdown",
   "id": "288c9bfd",
   "metadata": {},
   "source": [
    "# MNIST HAND WRITTEN NUMBER"
   ]
  },
  {
   "cell_type": "markdown",
   "id": "3a1f3898",
   "metadata": {},
   "source": [
    "Define various neural network structures with tanh, sigmoid, linear, relu, define number of neurons in each layer and forward the input data to one-hot-coding for numbers 0-9. **You are NOT expected to use Convolution Layers!** <br>\n",
    "*Hint: Input files are 28x28 images.*\n",
    "<br>\n",
    "*Hint: Use .view method in the forward function to make a column vector from 28x28 image*\n"
   ]
  },
  {
   "cell_type": "markdown",
   "id": "79319f0d",
   "metadata": {},
   "source": [
    "In this assignment, you are expected to train your own Neural Network model. You are free to refer to resources online and bogaziciai github repository while constructing your neural network.  "
   ]
  },
  {
   "cell_type": "code",
   "execution_count": 3,
   "id": "6a93ca5f",
   "metadata": {},
   "outputs": [],
   "source": [
    "## Normalization and create a tensor for a training/test set \n",
    "\n",
    "transform = transforms.Compose([transforms.ToTensor(), transforms.Normalize((0.5,), (0.5,))])\n",
    "\n",
    "\n",
    "mnist_trainset = datasets.MNIST(root='./data', train=True, download=True, transform=transform)\n",
    "mnist_testset = datasets.MNIST(root='./data', train=False, download=True, transform=transform)"
   ]
  },
  {
   "cell_type": "markdown",
   "id": "a8ad7237",
   "metadata": {},
   "source": [
    "### Step 1\n",
    "\n",
    "Defining the structure of the neural network."
   ]
  },
  {
   "cell_type": "code",
   "execution_count": null,
   "id": "d7c8f956",
   "metadata": {},
   "outputs": [],
   "source": [
    "class Net(nn.Module):\n",
    "    def __init__(self):\n",
    "        super(Net,self).__init__()\n",
    "        # define the layers\n",
    "\n",
    "    def forward(self, img): # convert + flatten\n",
    "        \n",
    "        # view() reshapes the tensor without copying memory, similar to numpy's reshape().\n",
    "        \n",
    "        # forward propagation\n",
    "        \n",
    "        return x"
   ]
  },
  {
   "cell_type": "markdown",
   "id": "6c8441ba",
   "metadata": {},
   "source": [
    "### Step 2\n",
    "\n",
    "Deciding on the optimizer, number of batches, loss function and the number of epochs"
   ]
  },
  {
   "cell_type": "code",
   "execution_count": null,
   "id": "5e148da8",
   "metadata": {},
   "outputs": [],
   "source": [
    "model = ### initialize the model\n",
    "\n",
    "loss = ##\n",
    "optimizer = ###\n",
    "batch_size = ###\n",
    "epochs = ##\n",
    "\n",
    "train_loader = torch.utils.data.DataLoader(mnist_trainset, batch_size=batch_size, shuffle=True)\n",
    "test_loader = torch.utils.data.DataLoader(mnist_testset, batch_size=batch_size, shuffle=True)"
   ]
  },
  {
   "cell_type": "markdown",
   "id": "7b24bb0f",
   "metadata": {},
   "source": [
    "### Step 3\n",
    "Start the training."
   ]
  },
  {
   "cell_type": "code",
   "execution_count": null,
   "id": "2e30671f",
   "metadata": {},
   "outputs": [],
   "source": [
    "for epoch in range(epoch):\n",
    "    ### YOUR CODE\n",
    "        \n",
    "print('Finished Training')"
   ]
  },
  {
   "cell_type": "markdown",
   "id": "27c0e1e7",
   "metadata": {},
   "source": [
    "### Step 4\n",
    "Test your model's accuracy"
   ]
  },
  {
   "cell_type": "code",
   "execution_count": null,
   "id": "da2341bc",
   "metadata": {},
   "outputs": [],
   "source": []
  },
  {
   "cell_type": "markdown",
   "id": "1a78a39a",
   "metadata": {},
   "source": [
    "### Step 5\n",
    "\n",
    "Get some training or test data samples to visualize the predictions."
   ]
  },
  {
   "cell_type": "code",
   "execution_count": null,
   "id": "d6a973b3",
   "metadata": {},
   "outputs": [],
   "source": []
  }
 ],
 "metadata": {
  "kernelspec": {
   "display_name": "Python 3 (ipykernel)",
   "language": "python",
   "name": "python3"
  },
  "language_info": {
   "codemirror_mode": {
    "name": "ipython",
    "version": 3
   },
   "file_extension": ".py",
   "mimetype": "text/x-python",
   "name": "python",
   "nbconvert_exporter": "python",
   "pygments_lexer": "ipython3",
   "version": "3.8.13"
  }
 },
 "nbformat": 4,
 "nbformat_minor": 5
}
