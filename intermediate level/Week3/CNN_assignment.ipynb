{
 "cells": [
  {
   "cell_type": "markdown",
   "metadata": {},
   "source": [
    "# Bogaziciai CNN Assignment\n",
    "This assignment consist of 3 task please try to provide solutions to all of the Tasks.\n",
    "You can use any ML framework(pytorch, tensorflow,etc..).\n",
    "Basic Outline given for Tensorflow you can replace it with another as you wish.\n",
    "\n",
    "## Task 1: Creating CNN Model for Classical MNIST Dataset (30 Points)\n",
    "\n",
    "- **Loading and Preprocessing:** Importing libraries, loading MNIST dataset, and preprocessing steps.\n",
    "- **Model Architecture:** Designing a CNN architecture for MNIST digit recognition.\n",
    "- **Model Compilation and Training:** Compiling the model, training on the MNIST dataset, and achieving reasonable accuracy.\n",
    "- **Evaluation:** Evaluating the model on the MNIST test set.\n",
    "\n",
    "## Task 2: Extending Model to EMNIST Dataset (50 Points)\n",
    "\n",
    "- **Loading and Preprocessing EMNIST:** Importing additional libraries if necessary, loading EMNIST dataset, and preprocessing steps.\n",
    "- **Model Fine-Tuning:** Extending the existing model to EMNIST, fine-tuning if needed, and achieving reasonable accuracy.\n",
    "- **Evaluation on EMNIST:** Evaluating the model on the EMNIST test set.\n",
    "\n",
    "## Task 3: Comparison of Results (20 Points)\n",
    "\n",
    "- **Results Display:** Displaying and comparing the evaluation results for both datasets.\n",
    "- **Analysis and Insights:** Don't hesitate if your insight is naive.What are your thoughts, what are the difficulties that you encountered.And briefly explain what should be done both robustness and accuracy of a complete model for two task.\n",
    "\n",
    "**Total Points: 100**\n",
    "\n",
    "Your grade will be based on the completeness, correctness, and performance of your implementation in each task.\n"
   ]
  },
  {
   "cell_type": "markdown",
   "metadata": {},
   "source": [
    "Before you start, please fill your name and surname below.\n",
    "Name and Surname: **Mehmet Ali Yilmaz**\n",
    "Import necessary libraries inside below cell."
   ]
  },
  {
   "cell_type": "code",
   "execution_count": 2,
   "metadata": {},
   "outputs": [],
   "source": [
    "import tensorflow as tf\n",
    "from tensorflow.keras.models import Sequential\n",
    "from tensorflow.keras.layers import Conv2D, MaxPooling2D, Flatten, Dense\n",
    "import tensorflow_datasets as tfds\n",
    "import matplotlib.pyplot as plt\n",
    "import numpy as np"
   ]
  },
  {
   "cell_type": "markdown",
   "metadata": {},
   "source": [
    "## Task 1: Creating CNN Model for Classical MNIST Dataset (30 Points)"
   ]
  },
  {
   "cell_type": "code",
   "execution_count": 5,
   "metadata": {},
   "outputs": [
    {
     "data": {
      "image/png": "[encoded data removed]",
      "text/plain": [
       "<Figure size 1500x500 with 5 Axes>"
      ]
     },
     "metadata": {},
     "output_type": "display_data"
    }
   ],
   "source": [
    "(x_train_mnist, y_train_mnist), (x_test_mnist, y_test_mnist) = tf.keras.datasets.mnist.load_data()\n",
    "# show five exmaple images from the training set but divide into suplots\n",
    "fig, ax = plt.subplots(1, 5, figsize=(15, 5))\n",
    "for i in range(5):\n",
    "    ax[i].imshow(x_train_mnist[i], cmap='gray')\n",
    "    ax[i].set_title(y_train_mnist[i])\n",
    "    ax[i].axis('off')\n"
   ]
  },
  {
   "cell_type": "code",
   "execution_count": null,
   "metadata": {},
   "outputs": [],
   "source": [
    "# TODO: Preprocess the MNIST dataset\n",
    "\n",
    "# TODO: Reshape the images to have a single color channel\n",
    "\n",
    "# TODO: Build a CNN model for MNIST digit recognition\n",
    "\n",
    "# TODO: Train the model on the MNIST training dataset. Consider using a validation split and adjusting hyperparameters.\n",
    "# Also please comment model performance compared two the MLP model from the previous Assignment\n",
    "# If you didnt complete first assignment, please use the following model:\n",
    "# model = Sequential()\n",
    "# model.add(Flatten(input_shape=(28, 28)))\n",
    "# model.add(Dense(128, activation='relu'))\n",
    "# model.add(Dense(10, activation='softmax'))\n",
    "\n",
    "\n",
    "\n"
   ]
  },
  {
   "cell_type": "markdown",
   "metadata": {},
   "source": [
    "## Task 2: Extending Model to EMNIST Dataset (50 Points)\n",
    "In this part you will extend your implementation on EMNIST(eminst/digit) dataset. You can use your own model or you can use pretrained model from Task 1.\n",
    "![alt text](Usage of Google Colab or Kaggle is highly recommended.) \n",
    "\n",
    "This task is motivated you to implement a model with a bit more complex and a bigger dataset. As in the real life :D You can use any ML framework(pytorch, tensorflow,etc..)."
   ]
  },
  {
   "cell_type": "code",
   "execution_count": 8,
   "metadata": {},
   "outputs": [
    {
     "name": "stdout",
     "output_type": "stream",
     "text": [
      "Downloading and preparing dataset 535.73 MiB (download: 535.73 MiB, generated: Unknown size, total: 535.73 MiB) to /Users/sonerkuyar/tensorflow_datasets/emnist/digits/3.0.0...\n"
     ]
    },
    {
     "data": {
      "application/vnd.jupyter.widget-view+json": {
       "model_id": "43ce109f146840ac988520278fe8d081",
       "version_major": 2,
       "version_minor": 0
      },
      "text/plain": [
       "Dl Completed...: 0 url [00:00, ? url/s]"
      ]
     },
     "metadata": {},
     "output_type": "display_data"
    },
    {
     "data": {
      "application/vnd.jupyter.widget-view+json": {
       "model_id": "c5258995479d42bda090625375c72bfa",
       "version_major": 2,
       "version_minor": 0
      },
      "text/plain": [
       "Dl Size...: 0 MiB [00:00, ? MiB/s]"
      ]
     },
     "metadata": {},
     "output_type": "display_data"
    },
    {
     "data": {
      "application/vnd.jupyter.widget-view+json": {
       "model_id": "04637216385c4b07b01cffaa4f945213",
       "version_major": 2,
       "version_minor": 0
      },
      "text/plain": [
       "Extraction completed...: 0 file [00:00, ? file/s]"
      ]
     },
     "metadata": {},
     "output_type": "display_data"
    },
    {
     "data": {
      "application/vnd.jupyter.widget-view+json": {
       "model_id": "aca07f200e5b4f52ac092aed7e193124",
       "version_major": 2,
       "version_minor": 0
      },
      "text/plain": [
       "Extraction completed...: 0 file [00:00, ? file/s]"
      ]
     },
     "metadata": {},
     "output_type": "display_data"
    },
    {
     "data": {
      "application/vnd.jupyter.widget-view+json": {
       "model_id": "c8cfabf098f54d7d81df9f1339f2510f",
       "version_major": 2,
       "version_minor": 0
      },
      "text/plain": [
       "Generating splits...:   0%|          | 0/2 [00:00<?, ? splits/s]"
      ]
     },
     "metadata": {},
     "output_type": "display_data"
    },
    {
     "data": {
      "application/vnd.jupyter.widget-view+json": {
       "model_id": "604dca4b53fc4e4193b47c8d2a8f2323",
       "version_major": 2,
       "version_minor": 0
      },
      "text/plain": [
       "Generating train examples...:   0%|          | 0/240000 [00:00<?, ? examples/s]"
      ]
     },
     "metadata": {},
     "output_type": "display_data"
    },
    {
     "data": {
      "application/vnd.jupyter.widget-view+json": {
       "model_id": "6d0bf6cb3f7e41d186f4053abba246df",
       "version_major": 2,
       "version_minor": 0
      },
      "text/plain": [
       "Shuffling /Users/sonerkuyar/tensorflow_datasets/emnist/digits/3.0.0.incomplete86L3DN/emnist-train.tfrecord*...…"
      ]
     },
     "metadata": {},
     "output_type": "display_data"
    },
    {
     "data": {
      "application/vnd.jupyter.widget-view+json": {
       "model_id": "ceda57b59b7d4ca39369906706bbda9d",
       "version_major": 2,
       "version_minor": 0
      },
      "text/plain": [
       "Generating test examples...:   0%|          | 0/40000 [00:00<?, ? examples/s]"
      ]
     },
     "metadata": {},
     "output_type": "display_data"
    },
    {
     "data": {
      "application/vnd.jupyter.widget-view+json": {
       "model_id": "a1e0982aea4340cfbc9f42a19a03bfed",
       "version_major": 2,
       "version_minor": 0
      },
      "text/plain": [
       "Shuffling /Users/sonerkuyar/tensorflow_datasets/emnist/digits/3.0.0.incomplete86L3DN/emnist-test.tfrecord*...:…"
      ]
     },
     "metadata": {},
     "output_type": "display_data"
    },
    {
     "name": "stdout",
     "output_type": "stream",
     "text": [
      "Dataset emnist downloaded and prepared to /Users/sonerkuyar/tensorflow_datasets/emnist/digits/3.0.0. Subsequent calls will reuse this data.\n"
     ]
    },
    {
     "name": "stderr",
     "output_type": "stream",
     "text": [
      "2024-01-15 19:36:35.259303: W tensorflow/core/kernels/data/cache_dataset_ops.cc:856] The calling iterator did not fully read the dataset being cached. In order to avoid unexpected truncation of the dataset, the partially cached contents of the dataset  will be discarded. This can happen if you have an input pipeline similar to `dataset.cache().take(k).repeat()`. You should use `dataset.take(k).cache().repeat()` instead.\n"
     ]
    },
    {
     "data": {
      "image/png": "[encoded data removed]",
      "text/plain": [
       "<Figure size 1500x500 with 5 Axes>"
      ]
     },
     "metadata": {},
     "output_type": "display_data"
    }
   ],
   "source": [
    "\n",
    "''' We've used only the digits dataset for simplicity, but you can also try the full EMNIST dataset which includes\n",
    "both letters and digits. The dataset is quite large, so you may want to use a subset of it for this assignment.\n",
    "For performance speedup you can also consider using the tf.data.Dataset API (https://www.tensorflow.org/guide/data)\n",
    "and https://www.tensorflow.org/datasets/performances#auto-caching.\n",
    "The following code will load the dataset and show five example images from the training set.\n",
    "'''\n",
    "ds, ds_info = tfds.load(\n",
    "    'emnist/digits',\n",
    "    split='train',\n",
    "    as_supervised=True,  # returns `(img, label)` instead of dict(image=, ...)\n",
    "    with_info=True,\n",
    ")\n",
    "# show five exmaple images from the training set but divide into suplots\n",
    "fig, ax = plt.subplots(1, 5, figsize=(15, 5))\n",
    "for i, (image, label) in enumerate(ds.take(5)):\n",
    "    ax[i].imshow(image.numpy()[:, :, 0], cmap='gray')\n",
    "    ax[i].set_title(label.numpy())\n",
    "    ax[i].axis('off')\n",
    "\n"
   ]
  },
  {
   "cell_type": "code",
   "execution_count": null,
   "metadata": {},
   "outputs": [],
   "source": [
    "# TODO: Preprocess the EMNIST dataset\n",
    "# Similar preprocessing steps as done for MNIST\n",
    "\n",
    "# TODO: Reshape the images to have a single color channel\n",
    "\n",
    "# TODO: Train the existing model on the EMNIST training data\n",
    "# Fine-tune the model if needed"
   ]
  },
  {
   "cell_type": "markdown",
   "metadata": {},
   "source": [
    "## Task 3: Comparison of Results (20 Points)\n",
    "In this part you will compare your results on both datasets. You can use any visualization tool to compare your results you are not restricted a bruteforce analysis. But at least show the accuracy, loss and dataset size comparison.\n",
    "You can use any ML framework(pytorch, tensorflow,etc..).\n"
   ]
  },
  {
   "cell_type": "code",
   "execution_count": 9,
   "metadata": {},
   "outputs": [
    {
     "data": {
      "text/plain": [
       "'\\nmnist_results = model_mnist.evaluate(x_test_mnist, y_test_mnist, verbose=0)\\nprint(\"MNIST Test Accuracy:\", mnist_results[1])\\n\\nemnist_results = model_mnist.evaluate(x_test_emnist, y_test_emnist, verbose=0)\\nprint(\"EMNIST Test Accuracy:\", emnist_results[1])\\n'"
      ]
     },
     "execution_count": 9,
     "metadata": {},
     "output_type": "execute_result"
    }
   ],
   "source": [
    "'''\n",
    "mnist_results = model_mnist.evaluate(x_test_mnist, y_test_mnist, verbose=0)\n",
    "print(\"MNIST Test Accuracy:\", mnist_results[1])\n",
    "\n",
    "emnist_results = model_mnist.evaluate(x_test_emnist, y_test_emnist, verbose=0)\n",
    "print(\"EMNIST Test Accuracy:\", emnist_results[1])\n",
    "'''\n",
    "\n",
    "# TODO: Compare and analyze the results\n",
    "# You may consider visualizing the predictions or using additional metrics\n",
    "\n",
    "# Provide any necessary concluding remarks or insights."
   ]
  }
 ],
 "metadata": {
  "kernelspec": {
   "display_name": "Python 3",
   "language": "python",
   "name": "python3"
  },
  "language_info": {
   "codemirror_mode": {
    "name": "ipython",
    "version": 3
   },
   "file_extension": ".py",
   "mimetype": "text/x-python",
   "name": "python",
   "nbconvert_exporter": "python",
   "pygments_lexer": "ipython3",
   "version": "3.9.13"
  }
 },
 "nbformat": 4,
 "nbformat_minor": 2
}
